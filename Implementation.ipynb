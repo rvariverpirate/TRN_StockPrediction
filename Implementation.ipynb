{
 "cells": [
  {
   "cell_type": "markdown",
   "metadata": {},
   "source": [
    "### Dependency Imports"
   ]
  },
  {
   "cell_type": "code",
   "execution_count": 1,
   "metadata": {},
   "outputs": [],
   "source": [
    "# External\n",
    "import pandas as pd\n",
    "import torch\n",
    "import torch.nn\n",
    "from sklearn.preprocessing import MinMaxScaler\n",
    "from sklearn.model_selection import train_test_split\n",
    "import numpy as np\n",
    "import winsound \n",
    "\n",
    "# Local\n",
    "from DataParser import Pipeline\n",
    "from TRN import TRN\n",
    "from VisualizationHelpers import VizHelp"
   ]
  },
  {
   "cell_type": "markdown",
   "metadata": {},
   "source": [
    "#### Model Instantiation"
   ]
  },
  {
   "cell_type": "code",
   "execution_count": 10,
   "metadata": {},
   "outputs": [
    {
     "name": "stdout",
     "output_type": "stream",
     "text": [
      "Using Raw Input:\n"
     ]
    }
   ],
   "source": [
    "# Define Model Parameters\n",
    "input_dim = 1\n",
    "hidden_dim = 32\n",
    "num_layers = 2\n",
    "decoder_steps = 3\n",
    "num_epochs = 30\n",
    "use_deltas = False\n",
    "output_dim = 1\n",
    "\n",
    "# File Locations\n",
    "file_idx = 0\n",
    "input_files = [\"ibm.us.txt\", \"aapl.us.txt\", \"googl.us.txt\"]\n",
    "input_path = \"input/Data/Stocks/\" + input_files[file_idx]\n",
    "\n",
    "# Create Pipeline\n",
    "pipeline = Pipeline(input_path, num_decoders=decoder_steps, use_deltas=use_deltas)\n",
    "\n",
    "# Instantiate the Model\n",
    "model = TRN(input_dim=input_dim, hidden_dim=hidden_dim, num_layers=num_layers, output_dim=output_dim, num_decoders=decoder_steps)"
   ]
  },
  {
   "cell_type": "markdown",
   "metadata": {},
   "source": [
    "#### Check for Hardware Acceleration"
   ]
  },
  {
   "cell_type": "code",
   "execution_count": 3,
   "metadata": {},
   "outputs": [
    {
     "name": "stdout",
     "output_type": "stream",
     "text": [
      "CUDA device detected, utilizing GPU\n"
     ]
    },
    {
     "data": {
      "text/plain": [
       "TRN(\n",
       "  (hx_trans): Sequential(\n",
       "    (0): Linear(in_features=32, out_features=32, bias=True)\n",
       "    (1): ReLU(inplace=True)\n",
       "  )\n",
       "  (cx_trans): Sequential(\n",
       "    (0): Linear(in_features=32, out_features=32, bias=True)\n",
       "    (1): ReLU(inplace=True)\n",
       "  )\n",
       "  (fusion_linear): Sequential(\n",
       "    (0): Linear(in_features=1, out_features=32, bias=True)\n",
       "    (1): ReLU(inplace=True)\n",
       "  )\n",
       "  (future_linear): Sequential(\n",
       "    (0): Linear(in_features=32, out_features=1, bias=True)\n",
       "    (1): ReLU(inplace=True)\n",
       "  )\n",
       "  (enc_cell): LSTMCell(2, 32, bias=2)\n",
       "  (dec_cell): LSTMCell(32, 32, bias=2)\n",
       "  (classifier): Linear(in_features=32, out_features=1, bias=True)\n",
       ")"
      ]
     },
     "execution_count": 3,
     "metadata": {},
     "output_type": "execute_result"
    }
   ],
   "source": [
    "if torch.cuda.is_available:\n",
    "    print(\"CUDA device detected, utilizing GPU\")\n",
    "    device = torch.device('cuda')\n",
    "else:\n",
    "    print(\"CUDA device detected, defaulting to CPU\")\n",
    "    device = torch.device('cpu')\n",
    "\n",
    "model.to(device)"
   ]
  },
  {
   "cell_type": "markdown",
   "metadata": {},
   "source": [
    "#### Define a Training Method"
   ]
  },
  {
   "cell_type": "code",
   "execution_count": 4,
   "metadata": {},
   "outputs": [],
   "source": [
    "def TrainModel(X, y, y_future, train=False, num_epochs=1):\n",
    "    if train:\n",
    "        print('\\nBegining Training')\n",
    "    else:\n",
    "        print('\\nBegining Testing')\n",
    "\n",
    "    # Sound to alert user when training is complete \n",
    "    freq = 500# frequency is set to 500Hz\t\t \n",
    "    dur = 1000# duration is set to 100 milliseconds\t\n",
    "    \n",
    "    # Track the training errors to display later\n",
    "    hist = np.zeros(num_epochs)\n",
    "\n",
    "    with torch.set_grad_enabled(train):\n",
    "        # Define the Loss Fucntion: Multi-Cross Entropy Loss\n",
    "        #criterion = MultiCrossEntropyLoss(ignore_index=0)\n",
    "        criterion = torch.nn.MSELoss(reduction='mean').to(device)\n",
    "        # The Optimizer defines the Method for Finding the Minima, Ex: SGD - Stochastic Gradient Descent, Adam - Adaptive Movement Estimation\n",
    "        optimiser = torch.optim.Adam(model.parameters(), lr=0.01)\n",
    "        X = X.to(device)\n",
    "        y = y.to(device)\n",
    "        y_future = y_future.to(device)\n",
    "\n",
    "        for t in range(num_epochs):# num_epochs\n",
    "            # Forward Pass: Feed Data through Model\n",
    "            encoder_scores, decoder_scores = model(X)\n",
    "            \n",
    "            encoder_steps_taken = len(encoder_scores)\n",
    "            decoder_steps_taken = len(decoder_scores)\n",
    "\n",
    "            # Compute Encoder and Decoder Loss\n",
    "            # Here we are truncating the last portion of the input data\n",
    "            # because we had to cut traininng when the decoder reached the end\n",
    "            # which runs \"decoder_steps\" ahead\n",
    "            encoder_loss = criterion(encoder_scores, y[:len(encoder_scores)])\n",
    "            decoder_loss = criterion(decoder_scores, y_future)\n",
    "\n",
    "            # Compute Total Loss\n",
    "            total_loss = encoder_loss + decoder_loss\n",
    "\n",
    "            # Occasionally Print out some updates\n",
    "            #if t % 5 == 0 and t != 0:\n",
    "            print(f'MSE[{t}]: {total_loss.item()}')\n",
    "\n",
    "            # Add this loss to histogram\n",
    "            hist[t] = total_loss.item()\n",
    "\n",
    "            # Only update the Model Parameters if we are in Training Mode\n",
    "            if(train):\n",
    "                # Zero out gradiet, or else they will accumulate between epochs\n",
    "                optimiser.zero_grad()\n",
    "\n",
    "                # Perfrom Backwards Propogation starting with the Loss, back to the source\n",
    "                total_loss.backward()\n",
    "\n",
    "                # Update parameters\n",
    "                optimiser.step()\n",
    "    print('Training Complete!!!')\n",
    "    winsound.Beep(freq, dur) \n",
    "    return encoder_scores, hist"
   ]
  },
  {
   "cell_type": "markdown",
   "metadata": {},
   "source": [
    "#### Train the Model"
   ]
  },
  {
   "cell_type": "code",
   "execution_count": 5,
   "metadata": {},
   "outputs": [
    {
     "name": "stdout",
     "output_type": "stream",
     "text": [
      "\n",
      "Begining Training\n",
      "MSE[0]: 0.5275133848190308\n",
      "MSE[1]: 0.4173763394355774\n",
      "MSE[2]: 0.3401539921760559\n",
      "MSE[3]: 0.29536086320877075\n",
      "MSE[4]: 0.27865833044052124\n",
      "MSE[5]: 0.2713470458984375\n",
      "MSE[6]: 0.23800718784332275\n",
      "MSE[7]: 0.20841997861862183\n",
      "MSE[8]: 0.18896284699440002\n",
      "MSE[9]: 0.16500799357891083\n",
      "MSE[10]: 0.12374717742204666\n",
      "MSE[11]: 0.19249644875526428\n",
      "MSE[12]: 0.0817931666970253\n",
      "MSE[13]: 0.10492148995399475\n",
      "MSE[14]: 0.0910889282822609\n",
      "MSE[15]: 0.04902084916830063\n",
      "MSE[16]: 0.02998579666018486\n",
      "MSE[17]: 0.04210088774561882\n",
      "MSE[18]: 0.03744478523731232\n",
      "MSE[19]: 0.02612030692398548\n",
      "MSE[20]: 0.02130959928035736\n",
      "MSE[21]: 0.019462697207927704\n",
      "MSE[22]: 0.02192745916545391\n",
      "MSE[23]: 0.02363484725356102\n",
      "MSE[24]: 0.022384896874427795\n",
      "MSE[25]: 0.019969306886196136\n",
      "MSE[26]: 0.018719060346484184\n",
      "MSE[27]: 0.018882382661104202\n",
      "MSE[28]: 0.01866811141371727\n",
      "MSE[29]: 0.016726722940802574\n",
      "Training Complete!!!\n"
     ]
    }
   ],
   "source": [
    "# Extract Data From Pipeline\n",
    "X_train = pipeline.X_train\n",
    "y_train = pipeline.y_train\n",
    "y_future = pipeline.D_train\n",
    "\n",
    "# Train the Model\n",
    "y_pred, errors = TrainModel(X_train, y_train, y_future, train=True, num_epochs=num_epochs)"
   ]
  },
  {
   "cell_type": "markdown",
   "metadata": {},
   "source": [
    "#### Plot the Results"
   ]
  },
  {
   "cell_type": "code",
   "execution_count": 14,
   "metadata": {},
   "outputs": [
    {
     "name": "stdout",
     "output_type": "stream",
     "text": [
      "Saving image to: plots/Test_IBMD3_E30.png\n"
     ]
    },
    {
     "data": {
      "image/png": "[encoded data removed]",
      "text/plain": [
       "<Figure size 432x288 with 1 Axes>"
      ]
     },
     "metadata": {},
     "output_type": "display_data"
    },
    {
     "name": "stdout",
     "output_type": "stream",
     "text": [
      "Saving image to: plots/ibmD3_E29.0.png\n"
     ]
    },
    {
     "data": {
      "image/png": "[encoded data removed]",
      "text/plain": [
       "<Figure size 432x288 with 1 Axes>"
      ]
     },
     "metadata": {},
     "output_type": "display_data"
    }
   ],
   "source": [
    "# Instantiate Visualization Helper\n",
    "viz = VizHelp()\n",
    "y_train_np = y_train.cpu().detach().numpy()\n",
    "y_pred_np = y_pred.cpu().detach().numpy()\n",
    "viz.plotPredictions(y_pred_np, y_train_np, decoder_steps, num_epochs, input_path)\n",
    "name = input_files[file_idx].split('.')[0]\n",
    "viz.plotMSE(errors, decoder_steps, 1, name)"
   ]
  },
  {
   "cell_type": "code",
   "execution_count": 39,
   "metadata": {},
   "outputs": [],
   "source": [
    "# Append-adds at last \n",
    "file1 = open(\"results.txt\", \"a\")  # append mode \n",
    "file1.write(f'{name}\\t{decoder_steps}\\t\\t{errors[-1]}\\t{num_epochs}\\n')\n",
    "file1.close() "
   ]
  }
 ],
 "metadata": {
  "kernelspec": {
   "display_name": "Python 3",
   "language": "python",
   "name": "python3"
  },
  "language_info": {
   "codemirror_mode": {
    "name": "ipython",
    "version": 3
   },
   "file_extension": ".py",
   "mimetype": "text/x-python",
   "name": "python",
   "nbconvert_exporter": "python",
   "pygments_lexer": "ipython3",
   "version": "3.7.9"
  }
 },
 "nbformat": 4,
 "nbformat_minor": 4
}
